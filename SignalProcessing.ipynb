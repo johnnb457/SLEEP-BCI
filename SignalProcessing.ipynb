{
 "cells": [
  {
   "cell_type": "markdown",
   "id": "a6405a64",
   "metadata": {},
   "source": [
    "This is a rudimentary version of the signal processing algorithm"
   ]
  },
  {
   "cell_type": "code",
   "execution_count": 13,
   "id": "052e934d",
   "metadata": {},
   "outputs": [],
   "source": [
    "import mne\n",
    "import yasa\n",
    "import numpy as np\n",
    "import seaborn as sns\n",
    "import matplotlib.pyplot as plt\n",
    "sns.set(style='white', font_scale=1.2)\n",
    "from scipy.signal import welch\n",
    "import math"
   ]
  },
  {
   "cell_type": "markdown",
   "id": "eb5431ee",
   "metadata": {},
   "source": [
    "We will need some way of reading in the data, and splitting it by 30 s epochs."
   ]
  },
  {
   "cell_type": "code",
   "execution_count": 2,
   "id": "3945c28e",
   "metadata": {},
   "outputs": [
    {
     "name": "stdout",
     "output_type": "stream",
     "text": [
      "[0.000000e+00 1.000000e-02 2.000000e-02 ... 3.589997e+04 3.589998e+04\n",
      " 3.589999e+04]\n",
      "1196.0\n"
     ]
    }
   ],
   "source": [
    "#Read-in raw data\n",
    "#filename='sub-02_mne_raw.fif'\n",
    "#raw= mne.io.read_raw_fif(filename, preload=True, verbose=0)\n",
    "#Note: this will not work in real-time- I'm unsure how that will work\n",
    "filename='ST7011J0-PSG.edf'\n",
    "raw= mne.io.read_raw_edf(filename, preload=True, verbose=0)\n",
    "times= raw.times\n",
    "print(times)\n",
    "sf = raw.info['sfreq']\n",
    "tmax= times.size/sf\n",
    "epoch_num=tmax//30\n",
    "#for epoch in epoch_num:\n",
    "    #raw.save('epoch'+epoch+'.fif', tmin=30*(epoch-1), tmax=30*epoch)\n",
    "#Issue: this will save a separate file for each epoch, which is not efficient and we should avoid\n",
    "print(epoch_num)\n",
    "#raw.save('epoch1.fif', tmin=0, tmax=30, overwrite=True) #change to edf?\n",
    "#Some variable may be needed to keep track of time\n",
    "#At t=30, the raw data will be split off into its own array and a new array will be created for the next epoch\n",
    "    #This will probably involve the use of an iterator variable\n",
    "    #Maybe use 2D array?\n",
    "#Filter the signal!!"
   ]
  },
  {
   "cell_type": "markdown",
   "id": "53a36a45",
   "metadata": {},
   "source": [
    "Combine the next 2 code blocks into one function, returns sleep stage for one epoch"
   ]
  },
  {
   "cell_type": "code",
   "execution_count": 44,
   "id": "0aa2c6fb",
   "metadata": {},
   "outputs": [],
   "source": [
    "def get_stage(data, sf):\n",
    "    #data should be from mne file, in microvolts\n",
    "    bp=yasa.bandpower(data, sf=sf) #channel names haven't been set- should be fine since we only have one channel\n",
    "    #print(bp)\n",
    "    alpha=bp.at['CHAN000', 'Alpha']\n",
    "    if math.isnan(alpha):\n",
    "        alpha=0\n",
    "    print(\"Alpha:\")\n",
    "    print(alpha)\n",
    "    beta=bp.at['CHAN000', 'Beta']\n",
    "    if math.isnan(beta):\n",
    "        beta=0\n",
    "    print(\"Beta:\")\n",
    "    print(beta)\n",
    "    theta=bp.at['CHAN000', 'Theta']\n",
    "    if math.isnan(theta):\n",
    "        theta=0\n",
    "    print(\"Theta:\")\n",
    "    print(theta)\n",
    "    #Incorrect data with zero signal\n",
    "    #Slow wave detection\n",
    "    slow=yasa.sw_detect(data, sf=sf, verbose='error')\n",
    "    #Check the data types- can get errors if it is not microvolts\n",
    "    #print(slow.summary(grp_chan=True,aggfunc='mean'))\n",
    "    if slow==None:\n",
    "        slow_num=0\n",
    "        #print(slow_num)\n",
    "    else:\n",
    "        slow_num=(slow.summary(grp_chan=True,aggfunc='mean')).at['CHAN000', 'Count'] #May need to add paramters for this function\n",
    "        #print(slow_num)\n",
    "    print(\"Slow Wave:\")\n",
    "    print(slow_num)\n",
    "    spindles=yasa.spindles_detect(data, sf=sf, verbose='error')\n",
    "    #Suppress \"no spindles detected\" warning\n",
    "    spin_threshold=1\n",
    "    slow_threshold=1\n",
    "    if spindles== None:\n",
    "        spindles_num=0\n",
    "        #print(spindles_num)\n",
    "    else:\n",
    "        spindles_shape=(spindles.summary()).size\n",
    "        spindles_num=spindles_shape #In theory, spindles_shape will be the dimensions, and this will grab the number of rows\n",
    "        print(spindles.summary())\n",
    "        #Needs debugging!\n",
    "    print(\"Spindles:\")\n",
    "    print(spindles_num)\n",
    "    if (alpha+beta>0.5):\n",
    "        if theta>0.25:\n",
    "            stage='R'\n",
    "        else:\n",
    "            stage='W'\n",
    "    else:\n",
    "        if slow_num>slow_threshold: #Will need to set a threshold for # of slow waves in N3\n",
    "            stage='N3'\n",
    "        elif spindles_num>spin_threshold:\n",
    "            stage='N2'\n",
    "        else:\n",
    "            stage='N1'\n",
    "    return stage"
   ]
  },
  {
   "cell_type": "code",
   "execution_count": 23,
   "id": "3b90dc4b",
   "metadata": {},
   "outputs": [
    {
     "name": "stdout",
     "output_type": "stream",
     "text": [
      "0\n",
      "Alpha:\n",
      "0\n",
      "Beta:\n",
      "0\n",
      "Theta:\n",
      "0\n",
      "Slow Wave:\n",
      "1\n",
      "Spindles:\n",
      "0\n",
      "N1\n",
      "1\n",
      "Alpha:\n",
      "0.013073428649713456\n",
      "Beta:\n",
      "0.03253906794060435\n",
      "Theta:\n",
      "0.036557041034555676\n",
      "Slow Wave:\n",
      "0\n",
      "Spindles:\n",
      "0\n",
      "N1\n",
      "['N1', 'N1']\n"
     ]
    }
   ],
   "source": [
    "#Make a loop to iterate through an entire file\n",
    "epoch_num=2\n",
    "stages= [0]*epoch_num\n",
    "for i in range(epoch_num):\n",
    "    print(i)\n",
    "    #epoch_raw=raw.get_data(start=) #Need to make this a copy-by-value, or find another way to get subset\n",
    "    #epoch_raw.crop(tmin=30*i, tmax=30*(i+1))\n",
    "    #epoch_raw.pick_channels(['EEG Fpz-Cz'])\n",
    "    #data=epoch1._data*1e6 #Changing units from V to microvolts\n",
    "    raw.pick_channels(['EEG Fpz-Cz'])\n",
    "    sf=raw.info['sfreq']\n",
    "    data= raw.get_data(start=int(30*sf*i), stop=int(30*sf*(i+1)))*1e6\n",
    "    #print(data.shape)\n",
    "    #print(sf)\n",
    "    stages[i]=get_stage(data,sf)\n",
    "    print(stages[i])\n",
    "print(stages)"
   ]
  },
  {
   "cell_type": "code",
   "execution_count": 47,
   "id": "bd9be9e0-2326-45b4-93da-623185d2198f",
   "metadata": {},
   "outputs": [
    {
     "name": "stdout",
     "output_type": "stream",
     "text": [
      "52\n",
      "Alpha:\n",
      "0.06543872446516974\n",
      "Beta:\n",
      "0.18478517423802482\n",
      "Theta:\n",
      "0.1173518650783665\n",
      "Slow Wave:\n",
      "0\n",
      "   Start   Peak    End  Duration  Amplitude       RMS  AbsPower  RelPower  \\\n",
      "0  14.11  14.28  14.98      0.87   29.65235  7.244203  1.445299  0.219085   \n",
      "\n",
      "   Frequency  Oscillations  Symmetry  Channel  IdxChannel  \n",
      "0  13.827038          11.0  0.193182  CHAN000           0  \n",
      "Spindles:\n",
      "13\n",
      "N2\n"
     ]
    }
   ],
   "source": [
    "i=52\n",
    "print(i)\n",
    "#epoch_raw=raw.get_data(start=) #Need to make this a copy-by-value, or find another way to get subset\n",
    "#epoch_raw.crop(tmin=30*i, tmax=30*(i+1))\n",
    "#epoch_raw.pick_channels(['EEG Fpz-Cz'])\n",
    "#data=epoch1._data*1e6 #Changing units from V to microvolts\n",
    "raw.pick_channels(['EEG Fpz-Cz'])\n",
    "sf=raw.info['sfreq']\n",
    "data= raw.get_data(start=int(30*sf*i), stop=int(30*sf*(i+1)))*1e6\n",
    "#print(data.shape)\n",
    "#print(sf)\n",
    "print(get_stage(data,sf))"
   ]
  },
  {
   "cell_type": "code",
   "execution_count": 15,
   "id": "1c6c43a0",
   "metadata": {},
   "outputs": [
    {
     "name": "stderr",
     "output_type": "stream",
     "text": [
      "12-May-21 16:38:55 | WARNING | No spindle were found in channel CHAN000.\n",
      "12-May-21 16:38:55 | WARNING | No spindles were found in data. Returning None.\n"
     ]
    },
    {
     "name": "stdout",
     "output_type": "stream",
     "text": [
      "0\n"
     ]
    }
   ],
   "source": [
    "#Calculate bandpower or FFT power\n",
    "#epoch1_raw=mne.io.read_raw_fif('epoch1.fif', preload=True, verbose=0)\n",
    "#epoch1=epoch1_raw.pick_types(eeg=True)#This doesn't seem to be removing the non-EEG channels\n",
    "epoch1=epoch1_raw.pick_channels(['EEG Fpz-Cz'])\n",
    "data=epoch1._data*1e6 #Changing units from V to microvolts\n",
    "bp=yasa.bandpower(data, sf=sf) #channel names haven't been set- should be fine since we only have one channel\n",
    "#print(bp)\n",
    "alpha=bp.at['CHAN000', 'Alpha']\n",
    "#print(alpha)\n",
    "beta=bp.at['CHAN000', 'Beta']\n",
    "#print(beta)\n",
    "theta=bp.at['CHAN000', 'Theta']\n",
    "#Check if it works when 0 waves are detected\n",
    "#Slow wave detection\n",
    "slow=yasa.sw_detect(data, sf=sf)\n",
    "#Check the data types- can get errors if it is not microvolts\n",
    "#print(slow.summary(grp_chan=True,aggfunc='mean'))\n",
    "if slow==None:\n",
    "    slow_num=0\n",
    "    print(slow_num)\n",
    "else:\n",
    "    slow_num=(slow.summary(grp_chan=True,aggfunc='mean')).at['CHAN000', 'Count'] #May need to add paramters for this function\n",
    "    #print(slow_num)\n",
    "spindles=yasa.spindles_detect(data, sf=sf)\n",
    "#print(spindles)\n",
    "if spindles== None:\n",
    "    spindles_num=0\n",
    "    print(spindles_num)\n",
    "else:\n",
    "    spindles_shape=(spindles.summary()).size()\n",
    "    spindles_num=spindles_shape(1) #In theory, spindles_shape will be the dimensions, and this will grab the number of rows\n",
    "    print(spindles_num)\n",
    "    #This side of the loop still needs to be tested"
   ]
  },
  {
   "cell_type": "code",
   "execution_count": 5,
   "id": "c67ef0a4",
   "metadata": {},
   "outputs": [
    {
     "name": "stdout",
     "output_type": "stream",
     "text": [
      "['N1']\n"
     ]
    }
   ],
   "source": [
    "slow_threshold=1 #Placeholder value\n",
    "spin_threshold=1\n",
    "#stages=np.zeros(5, dtype='S5') #Check code properly later- this will need to set \"stages\" to have the same number of elements as epohcs\n",
    "stages=[] #Try to pre-allocate space if possible\n",
    "# One possible solution- create an array of maximum possible size, delete all empty elements once staging is done\n",
    "\n",
    "i=0\n",
    "#Wakefulness detection\n",
    "\n",
    "if (alpha+beta>0.5):\n",
    "    if theta>0.25:\n",
    "        stages[i]='R'\n",
    "    else:\n",
    "        stages[i]='W'\n",
    "else:\n",
    "    if slow_num>slow_threshold: #Will need to set a threshold for # of slow waves in N3\n",
    "        stages[i]='N3'\n",
    "    elif spindles_num>spin_threshold:\n",
    "        stages[i]='N2'\n",
    "    else:\n",
    "        #stages[i]='N1'\n",
    "        stages.append('N1')\n",
    "\n",
    "print(stages)\n",
    "\n",
    "#Issues: detection doesn't seem to be correct, formatting on array- this will probably work better with integers"
   ]
  }
 ],
 "metadata": {
  "kernelspec": {
   "display_name": "Python 3",
   "language": "python",
   "name": "python3"
  },
  "language_info": {
   "codemirror_mode": {
    "name": "ipython",
    "version": 3
   },
   "file_extension": ".py",
   "mimetype": "text/x-python",
   "name": "python",
   "nbconvert_exporter": "python",
   "pygments_lexer": "ipython3",
   "version": "3.9.2"
  }
 },
 "nbformat": 4,
 "nbformat_minor": 5
}
