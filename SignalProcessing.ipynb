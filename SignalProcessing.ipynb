{
 "cells": [
  {
   "cell_type": "markdown",
   "id": "measured-influence",
   "metadata": {},
   "source": [
    "This is a rudimentary version of the signal processing algorithm"
   ]
  },
  {
   "cell_type": "code",
   "execution_count": 2,
   "id": "ready-entry",
   "metadata": {},
   "outputs": [],
   "source": [
    "import mne\n",
    "import yasa\n",
    "import numpy as np\n",
    "import seaborn as sns\n",
    "import matplotlib.pyplot as plt\n",
    "sns.set(style='white', font_scale=1.2)\n",
    "from scipy.signal import welch"
   ]
  },
  {
   "cell_type": "markdown",
   "id": "first-shore",
   "metadata": {},
   "source": [
    "We will need some way of reading in the data, and splitting it by 30 s epochs."
   ]
  },
  {
   "cell_type": "code",
   "execution_count": 3,
   "id": "noble-album",
   "metadata": {},
   "outputs": [
    {
     "name": "stdout",
     "output_type": "stream",
     "text": [
      "9800\n"
     ]
    },
    {
     "name": "stderr",
     "output_type": "stream",
     "text": [
      "<ipython-input-3-4c418f0137b9>:11: RuntimeWarning: This filename (C:\\Users\\User\\Desktop\\CruX Project\\notebooks\\epoch1.fif) does not conform to MNE naming conventions. All raw files should end with raw.fif, raw_sss.fif, raw_tsss.fif, raw.fif.gz, raw_sss.fif.gz, raw_tsss.fif.gz or _meg.fif\n",
      "  raw.save('epoch1.fif', tmin=0, tmax=30, overwrite=True)\n"
     ]
    }
   ],
   "source": [
    "#Read-in raw data\n",
    "filename='sub-02_mne_raw.fif'\n",
    "raw= mne.io.read_raw_fif(filename, preload=True, verbose=0)\n",
    "#Note: this will not work in real-time- I'm unsure how that will work\n",
    "times= raw.times\n",
    "tmax= times.size #Probably isn't in seconds\n",
    "epoch_num=tmax//30\n",
    "#for epoch in epoch_num:\n",
    "    #raw.save('epoch'+epoch+'.fif', tmin=30*(epoch-1), tmax=30*epoch)\n",
    "#Issue: this will save a separate file for each epoch, which is not efficient and we should avoid\n",
    "print(epoch_num)\n",
    "raw.save('epoch1.fif', tmin=0, tmax=30, overwrite=True)\n",
    "#Some variable may be needed to keep track of time\n",
    "#At t=30, the raw data will be split off into its own array and a new array will be created for the next epoch\n",
    "    #This will probably involve the use of an iterator variable\n",
    "    #Maybe use 2D array?\n",
    "#Filter the signal!!"
   ]
  },
  {
   "cell_type": "code",
   "execution_count": 8,
   "id": "friendly-lotus",
   "metadata": {},
   "outputs": [
    {
     "name": "stderr",
     "output_type": "stream",
     "text": [
      "<ipython-input-8-44e19cda8c68>:2: RuntimeWarning: This filename (epoch1.fif) does not conform to MNE naming conventions. All raw files should end with raw.fif, raw_sss.fif, raw_tsss.fif, raw.fif.gz, raw_sss.fif.gz, raw_tsss.fif.gz or _meg.fif\n",
      "  epoch1=mne.io.read_raw_fif('epoch1.fif', preload=True, verbose=0)\n",
      "28-Feb-21 20:25:55 | WARNING | No SW were found in channel CHAN003.\n",
      "28-Feb-21 20:25:55 | WARNING | No spindle were found in channel CHAN000.\n",
      "28-Feb-21 20:25:55 | WARNING | No spindle were found in channel CHAN001.\n",
      "28-Feb-21 20:25:55 | WARNING | No spindle were found in channel CHAN002.\n",
      "28-Feb-21 20:25:55 | WARNING | No spindle were found in channel CHAN003.\n",
      "28-Feb-21 20:25:55 | WARNING | No spindle were found in channel CHAN004.\n",
      "28-Feb-21 20:25:55 | WARNING | No spindle were found in channel CHAN005.\n",
      "28-Feb-21 20:25:55 | WARNING | No spindles were found in data. Returning None.\n"
     ]
    },
    {
     "name": "stdout",
     "output_type": "stream",
     "text": [
      "0\n"
     ]
    }
   ],
   "source": [
    "#Calculate bandpower or FFT power\n",
    "epoch1=mne.io.read_raw_fif('epoch1.fif', preload=True, verbose=0)\n",
    "epoch1.pick_types(eeg=True)\n",
    "data=epoch1._data*1e6 #Changing units from V to microvolts\n",
    "sf = epoch1.info['sfreq'] #Set this to whatever the actual sampling frequency is\n",
    "\n",
    "bp=yasa.bandpower(data, sf=sf) #channel names haven't been set- should be fine since we only have one channel\n",
    "#print(bp)\n",
    "alpha=bp.at['CHAN000', 'Alpha']\n",
    "#print(alpha)\n",
    "beta=bp.at['CHAN000', 'Beta']\n",
    "#print(beta)\n",
    "#need theta\n",
    "#Slow wave detection\n",
    "slow=yasa.sw_detect(data, sf=sf)\n",
    "#print(slow.summary(grp_chan=True,aggfunc='mean'))\n",
    "slow_num=(slow.summary(grp_chan=True,aggfunc='mean')).at['CHAN000', 'Count'] #May need to add paramters for this function\n",
    "#print(slow_num)\n",
    "spindles=yasa.spindles_detect(data, sf=sf)\n",
    "#print(spindles)\n",
    "if spindles== None:\n",
    "    spindles_num=0\n",
    "    print(spindles_num)\n",
    "else:\n",
    "    spindles_shape=(spindles.summary()).size()\n",
    "    spindles_num=spindles_shape(1) #In theory, spindles_shape will be the dimensions, and this will grab the number of rows\n",
    "    print(spindles_num)\n",
    "    #This side of the loop still needs to be tested"
   ]
  },
  {
   "cell_type": "code",
   "execution_count": 29,
   "id": "danish-tennessee",
   "metadata": {},
   "outputs": [
    {
     "name": "stdout",
     "output_type": "stream",
     "text": [
      "[b'N3' b'\\x01\\x00\\x00s' b'\\x00\\x00e' b'\\x00:' b'1\\x005\\x00:']\n"
     ]
    }
   ],
   "source": [
    "slow_threshold=1 #Placeholder value\n",
    "stages=np.empty(5, dtype='S5') #Check code properly later- this will need to set \"stages\" to have the same number of elements as epohcs\n",
    "i=0\n",
    "#Wakefulness detection\n",
    "if (alpha+beta>0.5):\n",
    "    if theta>0.25:\n",
    "        stages[i]='R'\n",
    "    else:\n",
    "        stages[i]='W'\n",
    "else:\n",
    "    if slow_num>slow_threshold: #Will need to set a threshold for # of slow waves in N3\n",
    "        stages[i]='N3'\n",
    "    elseif spindles_num>spin_threshold:\n",
    "        stages[i]='N2'\n",
    "    else:\n",
    "        stages[i]='N1'\n",
    "print(stages)\n",
    "#Issues: detection doesn't seem to be correct, formatting on array- this will probably work better with integers"
   ]
  }
 ],
 "metadata": {
  "kernelspec": {
   "display_name": "Python 3",
   "language": "python",
   "name": "python3"
  },
  "language_info": {
   "codemirror_mode": {
    "name": "ipython",
    "version": 3
   },
   "file_extension": ".py",
   "mimetype": "text/x-python",
   "name": "python",
   "nbconvert_exporter": "python",
   "pygments_lexer": "ipython3",
   "version": "3.7.6"
  }
 },
 "nbformat": 4,
 "nbformat_minor": 5
}
